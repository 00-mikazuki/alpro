{
 "cells": [
  {
   "cell_type": "markdown",
   "id": "a64cd063",
   "metadata": {},
   "source": [
    "#### Data Type - String"
   ]
  },
  {
   "cell_type": "code",
   "execution_count": 1,
   "id": "c0fa8d4a",
   "metadata": {},
   "outputs": [],
   "source": [
    "data='Kelas Algoritma'"
   ]
  },
  {
   "cell_type": "code",
   "execution_count": 3,
   "id": "0199e667",
   "metadata": {},
   "outputs": [
    {
     "name": "stdout",
     "output_type": "stream",
     "text": [
      "l i\n"
     ]
    }
   ],
   "source": [
    "print(data[7],data[11])"
   ]
  },
  {
   "cell_type": "code",
   "execution_count": 3,
   "id": "946a4f16",
   "metadata": {},
   "outputs": [
    {
     "data": {
      "text/plain": [
       "'Kelas Algoritm'"
      ]
     },
     "execution_count": 3,
     "metadata": {},
     "output_type": "execute_result"
    }
   ],
   "source": [
    "data[:-1]"
   ]
  },
  {
   "cell_type": "code",
   "execution_count": 4,
   "id": "62f8f5ca",
   "metadata": {},
   "outputs": [
    {
     "name": "stdout",
     "output_type": "stream",
     "text": [
      "algoritma\n"
     ]
    }
   ],
   "source": [
    "data='algoritma'\n",
    "temp=''\n",
    "for i in range(len(data)):\n",
    "    temp+=data[i]\n",
    "print(temp)"
   ]
  },
  {
   "cell_type": "code",
   "execution_count": 5,
   "id": "706fbc2c",
   "metadata": {},
   "outputs": [
    {
     "name": "stdout",
     "output_type": "stream",
     "text": [
      "las Al\n"
     ]
    }
   ],
   "source": [
    "print(data[2:8]) #a sampai b-1"
   ]
  },
  {
   "cell_type": "code",
   "execution_count": 6,
   "id": "7c6ca968",
   "metadata": {},
   "outputs": [
    {
     "name": "stdout",
     "output_type": "stream",
     "text": [
      "a\n"
     ]
    }
   ],
   "source": [
    "print(data[-1]) #offset yg terakhir"
   ]
  },
  {
   "cell_type": "code",
   "execution_count": 4,
   "id": "3b66e78e",
   "metadata": {},
   "outputs": [
    {
     "data": {
      "text/plain": [
       "'Kelas Algoritma'"
      ]
     },
     "execution_count": 4,
     "metadata": {},
     "output_type": "execute_result"
    }
   ],
   "source": [
    "data[:]"
   ]
  },
  {
   "cell_type": "code",
   "execution_count": 7,
   "id": "88eb1c7e",
   "metadata": {},
   "outputs": [
    {
     "name": "stdout",
     "output_type": "stream",
     "text": [
      "Kelas Kelas\n"
     ]
    }
   ],
   "source": [
    "print(data[:5],data[0:5]) #:5=0:5 offset pertama dan terakhir dapat tidak ditulis"
   ]
  },
  {
   "cell_type": "code",
   "execution_count": 7,
   "id": "4f78de97",
   "metadata": {},
   "outputs": [
    {
     "name": "stdout",
     "output_type": "stream",
     "text": [
      " Algoritma  Algoritm\n"
     ]
    }
   ],
   "source": [
    "print(data[5:],data[5:-1])"
   ]
  },
  {
   "cell_type": "code",
   "execution_count": 13,
   "id": "997676fe",
   "metadata": {},
   "outputs": [
    {
     "name": "stdout",
     "output_type": "stream",
     "text": [
      "Kelas Algoritma 15\n",
      "offset- 0 : K\n",
      "offset- 1 : e\n",
      "offset- 2 : l\n",
      "offset- 3 : a\n",
      "offset- 4 : s\n",
      "offset- 5 :  \n",
      "offset- 6 : A\n",
      "offset- 7 : l\n",
      "offset- 8 : g\n",
      "offset- 9 : o\n",
      "offset- 10 : r\n",
      "offset- 11 : i\n",
      "offset- 12 : t\n",
      "offset- 13 : m\n",
      "offset- 14 : a\n"
     ]
    }
   ],
   "source": [
    "print(data,len(data))\n",
    "num=len(data)\n",
    "for i in range(num):\n",
    "    print('offset-',i,':',data[i])"
   ]
  },
  {
   "cell_type": "code",
   "execution_count": 14,
   "id": "6c3135a1",
   "metadata": {},
   "outputs": [
    {
     "name": "stdout",
     "output_type": "stream",
     "text": [
      "K\n",
      "e\n",
      "l\n",
      "a\n",
      "s\n",
      " \n",
      "A\n",
      "l\n",
      "g\n",
      "o\n",
      "r\n",
      "i\n",
      "t\n",
      "m\n",
      "a\n"
     ]
    }
   ],
   "source": [
    "for karakter in data:\n",
    "    print(karakter)"
   ]
  },
  {
   "cell_type": "code",
   "execution_count": 15,
   "id": "1fb50734",
   "metadata": {},
   "outputs": [
    {
     "name": "stdout",
     "output_type": "stream",
     "text": [
      "offset- 0 : K\n",
      "offset- 1 : e\n",
      "offset- 2 : l\n",
      "offset- 3 : a\n",
      "offset- 4 : s\n",
      "offset- 5 :  \n",
      "offset- 6 : A\n",
      "offset- 7 : l\n",
      "offset- 8 : g\n",
      "offset- 9 : o\n",
      "offset- 10 : r\n",
      "offset- 11 : i\n",
      "offset- 12 : t\n",
      "offset- 13 : m\n",
      "offset- 14 : a\n"
     ]
    }
   ],
   "source": [
    "offsetCh=0\n",
    "for karakter in data:\n",
    "    print('offset-',offsetCh,':',karakter)\n",
    "    offsetCh+=1"
   ]
  },
  {
   "cell_type": "code",
   "execution_count": 16,
   "id": "f72a4da8",
   "metadata": {},
   "outputs": [
    {
     "name": "stdout",
     "output_type": "stream",
     "text": [
      "Kelas Algoritma\n"
     ]
    },
    {
     "ename": "NameError",
     "evalue": "name 'T' is not defined",
     "output_type": "error",
     "traceback": [
      "\u001b[1;31m---------------------------------------------------------------------------\u001b[0m",
      "\u001b[1;31mNameError\u001b[0m                                 Traceback (most recent call last)",
      "Input \u001b[1;32mIn [16]\u001b[0m, in \u001b[0;36m<cell line: 2>\u001b[1;34m()\u001b[0m\n\u001b[0;32m      1\u001b[0m \u001b[38;5;28mprint\u001b[39m(data)\n\u001b[1;32m----> 2\u001b[0m data[\u001b[38;5;241m0\u001b[39m]\u001b[38;5;241m=\u001b[39m\u001b[43mT\u001b[49m\n",
      "\u001b[1;31mNameError\u001b[0m: name 'T' is not defined"
     ]
    }
   ],
   "source": [
    "print(data) #immutable (tdk bisa dilakukan pergantian menggunakan operator assignment)\n",
    "data[0]='T'"
   ]
  },
  {
   "cell_type": "code",
   "execution_count": 18,
   "id": "c764355c",
   "metadata": {},
   "outputs": [
    {
     "name": "stdout",
     "output_type": "stream",
     "text": [
      "KELAS ALGORITMA\n"
     ]
    }
   ],
   "source": [
    "print(data.upper()) #ketik titik (.) lalu Tab"
   ]
  },
  {
   "cell_type": "code",
   "execution_count": 19,
   "id": "e7a6ce93",
   "metadata": {},
   "outputs": [
    {
     "name": "stdout",
     "output_type": "stream",
     "text": [
      "13\n"
     ]
    }
   ],
   "source": [
    "print(data.find('m')) #mencari offset suatu karakter"
   ]
  },
  {
   "cell_type": "code",
   "execution_count": 20,
   "id": "e08b72b1",
   "metadata": {},
   "outputs": [
    {
     "name": "stdout",
     "output_type": "stream",
     "text": [
      "Telas Algoritma\n"
     ]
    }
   ],
   "source": [
    "print(data.replace('K','T')) #method mengganti variabel data"
   ]
  },
  {
   "cell_type": "code",
   "execution_count": 21,
   "id": "73ea74db",
   "metadata": {},
   "outputs": [
    {
     "name": "stdout",
     "output_type": "stream",
     "text": [
      "1\n",
      "1\n",
      "0\n"
     ]
    }
   ],
   "source": [
    "#Konversi Biner ke Desimal\n",
    "binStr='110'\n",
    "for i in range(0,len(binStr),1): #(awal,akhir,interval)\n",
    "    print(binStr[i])"
   ]
  },
  {
   "cell_type": "code",
   "execution_count": 32,
   "id": "7e3dc1ea",
   "metadata": {},
   "outputs": [
    {
     "name": "stdout",
     "output_type": "stream",
     "text": [
      "masukkan biner = 1010\n",
      "0 0\n",
      "1 1\n",
      "0 2\n",
      "1 3\n",
      "10\n"
     ]
    }
   ],
   "source": [
    "binStr=input('masukkan biner = ')\n",
    "pangkat=0\n",
    "hasil=0\n",
    "for i in range(len(binStr)-1,-1,-1): #iterasi akan berhenti pada Offset sebelum angka yang terlrtak pada parameter \"akhir\"\n",
    "    print(binStr[i],pangkat)\n",
    "    hasil=hasil+int(binStr[i])*2**pangkat\n",
    "    pangkat+=1\n",
    "print(hasil)"
   ]
  },
  {
   "cell_type": "markdown",
   "id": "1ca92811",
   "metadata": {},
   "source": [
    "### List"
   ]
  },
  {
   "cell_type": "code",
   "execution_count": 33,
   "id": "e779d997",
   "metadata": {},
   "outputs": [],
   "source": [
    "data=[90,56,34,78,86,90,87,88,75,65,86,57,89,67,80]"
   ]
  },
  {
   "cell_type": "code",
   "execution_count": 34,
   "id": "8ae66059",
   "metadata": {},
   "outputs": [
    {
     "data": {
      "text/plain": [
       "57"
      ]
     },
     "execution_count": 34,
     "metadata": {},
     "output_type": "execute_result"
    }
   ],
   "source": [
    "data[11]"
   ]
  },
  {
   "cell_type": "code",
   "execution_count": 35,
   "id": "c1ef950c",
   "metadata": {},
   "outputs": [
    {
     "data": {
      "text/plain": [
       "[87, 88, 75, 65]"
      ]
     },
     "execution_count": 35,
     "metadata": {},
     "output_type": "execute_result"
    }
   ],
   "source": [
    "#data[a:b]\n",
    "data[6:10]"
   ]
  },
  {
   "cell_type": "code",
   "execution_count": 37,
   "id": "e99f24d3",
   "metadata": {},
   "outputs": [
    {
     "data": {
      "text/plain": [
       "[90, 56, 34, 78, 86]"
      ]
     },
     "execution_count": 37,
     "metadata": {},
     "output_type": "execute_result"
    }
   ],
   "source": [
    "#data[0:5]\n",
    "data[:5]"
   ]
  },
  {
   "cell_type": "code",
   "execution_count": 40,
   "id": "f11273b4",
   "metadata": {},
   "outputs": [
    {
     "data": {
      "text/plain": [
       "[65, 86, 57, 89, 67, 80]"
      ]
     },
     "execution_count": 40,
     "metadata": {},
     "output_type": "execute_result"
    }
   ],
   "source": [
    "#data[9:15]\n",
    "data[9:]"
   ]
  },
  {
   "cell_type": "code",
   "execution_count": 41,
   "id": "82dcaeeb",
   "metadata": {},
   "outputs": [
    {
     "data": {
      "text/plain": [
       "80"
      ]
     },
     "execution_count": 41,
     "metadata": {},
     "output_type": "execute_result"
    }
   ],
   "source": [
    "data[-1] #data terakhir"
   ]
  },
  {
   "cell_type": "code",
   "execution_count": 43,
   "id": "0f3031f2",
   "metadata": {},
   "outputs": [
    {
     "name": "stdout",
     "output_type": "stream",
     "text": [
      "[90, 56, 34, 78, 86, 90, 87, 88, 75, 65, 86, 57, 89, 67, 80]\n",
      "[90, 75, 34, 78, 86, 90, 87, 88, 75, 65, 86, 57, 89, 67, 80]\n"
     ]
    }
   ],
   "source": [
    "print(data)\n",
    "data[1]=75 #mutable\n",
    "print(data)"
   ]
  },
  {
   "cell_type": "code",
   "execution_count": 44,
   "id": "f2f45a26",
   "metadata": {},
   "outputs": [
    {
     "name": "stdout",
     "output_type": "stream",
     "text": [
      "15\n",
      "90\n",
      "75\n",
      "34\n",
      "78\n",
      "86\n",
      "90\n",
      "87\n",
      "88\n",
      "75\n",
      "65\n",
      "86\n",
      "57\n",
      "89\n",
      "67\n",
      "80\n"
     ]
    }
   ],
   "source": [
    "num=len(data) #banyaknya data/jumlah\n",
    "print(num)\n",
    "for i in range(num):\n",
    "    print(data[i])"
   ]
  },
  {
   "cell_type": "code",
   "execution_count": 45,
   "id": "ca896210",
   "metadata": {},
   "outputs": [
    {
     "name": "stdout",
     "output_type": "stream",
     "text": [
      "90\n",
      "75\n",
      "34\n",
      "78\n",
      "86\n",
      "90\n",
      "87\n",
      "88\n",
      "75\n",
      "65\n",
      "86\n",
      "57\n",
      "89\n",
      "67\n",
      "80\n"
     ]
    }
   ],
   "source": [
    "for nilai in data:\n",
    "    print(nilai)"
   ]
  },
  {
   "cell_type": "code",
   "execution_count": 47,
   "id": "5e495d7d",
   "metadata": {},
   "outputs": [
    {
     "name": "stdout",
     "output_type": "stream",
     "text": [
      "total 1147 dan rata-ratanya 76.46666666666667\n"
     ]
    }
   ],
   "source": [
    "temp=0\n",
    "for nilai in data:\n",
    "    temp=temp+nilai\n",
    "rata2=temp/len(data)\n",
    "print('total',temp,'dan rata-ratanya',rata2)"
   ]
  },
  {
   "cell_type": "code",
   "execution_count": 49,
   "id": "21befe92",
   "metadata": {},
   "outputs": [
    {
     "name": "stdout",
     "output_type": "stream",
     "text": [
      "masukkan uang = 90000\n",
      "0  lembar  seratus ribu\n",
      "1  lembar  lima puluh ribu\n",
      "2  lembar  dua puluh ribu\n"
     ]
    }
   ],
   "source": [
    "uang=[100000,50000,20000,10000,5000,2000,1000]\n",
    "strUang=['seratus ribu','lima puluh ribu','dua puluh ribu','sepuluh ribu','lima ribu','dua ribu','seribu']\n",
    "\n",
    "rupiah=int(input('masukkan uang = '))\n",
    "sisa=rupiah\n",
    "stop=False\n",
    "indUang=0\n",
    "while not(stop):\n",
    "    bagi=sisa//uang[indUang]\n",
    "    print(bagi,' lembar ', strUang[indUang])\n",
    "    sisa=sisa%uang[indUang]\n",
    "    if sisa==0:\n",
    "        stop=True\n",
    "    indUang+=1"
   ]
  },
  {
   "cell_type": "code",
   "execution_count": 51,
   "id": "1e762762",
   "metadata": {},
   "outputs": [
    {
     "name": "stdout",
     "output_type": "stream",
     "text": [
      "masukkan uang = 95700\n",
      "1  lembar  lima puluh ribu\n",
      "2  lembar  dua puluh ribu\n",
      "1  lembar  lima ribu\n",
      "1  lembar  limaratus\n",
      "1  lembar  duaratus\n"
     ]
    }
   ],
   "source": [
    "uang=[100000,50000,20000,10000,5000,2000,1000,500,200,100]\n",
    "strUang=['seratus ribu','lima puluh ribu','dua puluh ribu','sepuluh ribu','lima ribu','dua ribu','seribu','limaratus','duaratus','seratus']\n",
    "\n",
    "rupiah=int(input('masukkan uang = '))\n",
    "sisa=rupiah\n",
    "stop=False\n",
    "indUang=0\n",
    "while not(stop):\n",
    "    bagi=sisa//uang[indUang]\n",
    "    if bagi!=0:\n",
    "        print(bagi,' lembar ', strUang[indUang])\n",
    "    sisa=sisa%uang[indUang]\n",
    "    if sisa==0:\n",
    "        stop=True\n",
    "    indUang+=1"
   ]
  },
  {
   "cell_type": "code",
   "execution_count": 2,
   "id": "99e534ac",
   "metadata": {},
   "outputs": [
    {
     "name": "stdout",
     "output_type": "stream",
     "text": [
      "berapa = 5000\n",
      "10 keping limaratus\n"
     ]
    }
   ],
   "source": [
    "angka=[500,200,100,50]\n",
    "strAngka=['limaratus','duaratus','seratus','limapuluh']\n",
    "\n",
    "berapa=int(input('berapa = '))\n",
    "sisa=berapa\n",
    "stop=False\n",
    "indAngka=0\n",
    "while not(stop):\n",
    "    bagi=sisa//angka[indAngka]\n",
    "    if bagi!=0:\n",
    "        print(bagi,'keping',strAngka[indAngka])\n",
    "    sisa=sisa%angka[indAngka]\n",
    "    if sisa==0:\n",
    "        stop=True\n",
    "    indAngka+=1"
   ]
  },
  {
   "cell_type": "code",
   "execution_count": 3,
   "id": "d7bfa4ba",
   "metadata": {},
   "outputs": [
    {
     "data": {
      "text/plain": [
       "4"
      ]
     },
     "execution_count": 3,
     "metadata": {},
     "output_type": "execute_result"
    }
   ],
   "source": [
    "len(angka)"
   ]
  },
  {
   "cell_type": "markdown",
   "id": "0f705510",
   "metadata": {},
   "source": [
    "# list"
   ]
  },
  {
   "cell_type": "code",
   "execution_count": 3,
   "id": "991e1596",
   "metadata": {},
   "outputs": [
    {
     "name": "stdout",
     "output_type": "stream",
     "text": [
      "ukuran list = 3\n",
      "masukkan data ke-0 = 1\n",
      "masukkan data ke-1 = 2\n",
      "masukkan data ke-2 = 3\n",
      "ukuran list = 4\n",
      "masukkan data ke-0 = 1\n",
      "masukkan data ke-1 = 2\n",
      "masukkan data ke-2 = 3\n",
      "masukkan data ke-3 = 4\n",
      "[1, 2, 3]\n",
      "[1, 2, 3, 4]\n"
     ]
    }
   ],
   "source": [
    "list1=[]\n",
    "list2=[]\n",
    "\n",
    "sizeList=int(input('ukuran list = '))\n",
    "for i in range(sizeList):\n",
    "    temp='masukkan data ke-'+str(i)+' = '\n",
    "    list1.append(int(input(temp)))\n",
    "    \n",
    "sizeList=int(input('ukuran list = '))\n",
    "for i in range(sizeList):\n",
    "    temp='masukkan data ke-'+str(i)+' = '\n",
    "    list2.append(int(input(temp)))\n",
    "    \n",
    "print(list1)\n",
    "print(list2)"
   ]
  },
  {
   "cell_type": "markdown",
   "id": "b873d53c",
   "metadata": {},
   "source": [
    "# fungsi 1 - tanpa parameter, tanpa return value\n",
    "\n",
    "```\n",
    "def NamaFungsi():\n",
    "    syntax_1\n",
    "    syntax_2\n"
   ]
  },
  {
   "cell_type": "code",
   "execution_count": 5,
   "id": "53973fd0",
   "metadata": {},
   "outputs": [],
   "source": [
    "def displayText():\n",
    "    print('alpro')"
   ]
  },
  {
   "cell_type": "code",
   "execution_count": 6,
   "id": "8f8daeb8",
   "metadata": {},
   "outputs": [
    {
     "name": "stdout",
     "output_type": "stream",
     "text": [
      "alpro\n"
     ]
    }
   ],
   "source": [
    "displayText()"
   ]
  },
  {
   "cell_type": "code",
   "execution_count": 9,
   "id": "3d468393",
   "metadata": {},
   "outputs": [],
   "source": [
    "def penjumlahan():\n",
    "    bil1=int(input('bil1 = '))\n",
    "    bil2=int(input('bil2 = '))\n",
    "    hasil=5+3\n",
    "    print(hasil)"
   ]
  },
  {
   "cell_type": "code",
   "execution_count": 10,
   "id": "c9f5ef9b",
   "metadata": {},
   "outputs": [
    {
     "name": "stdout",
     "output_type": "stream",
     "text": [
      "bil1 = 3\n",
      "bil2 = 6\n",
      "8\n"
     ]
    }
   ],
   "source": [
    "penjumlahan()"
   ]
  },
  {
   "cell_type": "code",
   "execution_count": null,
   "id": "72fff9a1",
   "metadata": {},
   "outputs": [],
   "source": []
  }
 ],
 "metadata": {
  "kernelspec": {
   "display_name": "Python 3 (ipykernel)",
   "language": "python",
   "name": "python3"
  },
  "language_info": {
   "codemirror_mode": {
    "name": "ipython",
    "version": 3
   },
   "file_extension": ".py",
   "mimetype": "text/x-python",
   "name": "python",
   "nbconvert_exporter": "python",
   "pygments_lexer": "ipython3",
   "version": "3.10.6"
  }
 },
 "nbformat": 4,
 "nbformat_minor": 5
}
