{
 "cells": [
  {
   "cell_type": "code",
   "execution_count": null,
   "id": "19f4e82e",
   "metadata": {},
   "outputs": [],
   "source": [
    "a=4\n",
    "if a==4 :\n",
    "    print('a bernilai 4')"
   ]
  },
  {
   "cell_type": "code",
   "execution_count": null,
   "id": "e321ae57",
   "metadata": {},
   "outputs": [],
   "source": [
    "a=5\n",
    "if a==4 :\n",
    "    print('a bernilai 4')"
   ]
  },
  {
   "cell_type": "code",
   "execution_count": null,
   "id": "d229d976",
   "metadata": {},
   "outputs": [],
   "source": [
    "num=int(input('masukkan angka : '))\n",
    "if num%2==1 :\n",
    "    print('ganjil')\n",
    "if num%2==0 :\n",
    "    print('genap')"
   ]
  },
  {
   "cell_type": "code",
   "execution_count": null,
   "id": "5f70430c",
   "metadata": {},
   "outputs": [],
   "source": [
    "a=int(input('a = '))\n",
    "b=int(input('b = '))\n",
    "c=int(input('c = '))\n",
    "if a>b :\n",
    "    max=a\n",
    "else :\n",
    "    max=b\n",
    "if max>c :\n",
    "    print('bilangan paling besar adalah',max)\n",
    "else :\n",
    "    print('bilangan paling besar adalah',c)"
   ]
  },
  {
   "cell_type": "code",
   "execution_count": null,
   "id": "0ecb3198",
   "metadata": {},
   "outputs": [],
   "source": [
    "nilai=int(input('input nilai ='))\n",
    "if nilai>=0 and nilai<40 :\n",
    "    print('nilai E')\n",
    "elif nilai>=40 and nilai<50 :\n",
    "    print('nilai D')\n",
    "elif nilai>=50 and nilai<70 :\n",
    "    print('nilai C')\n",
    "elif nilai>=70 and nilai<80 :\n",
    "    print('nilai B')\n",
    "else :\n",
    "    print('nilai A')"
   ]
  },
  {
   "cell_type": "code",
   "execution_count": null,
   "id": "a3bccb53",
   "metadata": {},
   "outputs": [],
   "source": [
    "a=int(input('a = '))\n",
    "b=int(input('b = '))\n",
    "c=int(input('c = '))\n",
    "d=int(input('d = '))\n",
    "if a>b and a>c and a>d :\n",
    "    print('angka paling besar adalah a')\n",
    "elif b>c and b>d :\n",
    "    print('angka paling besar adalah b')\n",
    "elif c>d :\n",
    "    print('angka paling besar adalah c')\n",
    "else :\n",
    "    print('angka paling besar adalah d')"
   ]
  },
  {
   "cell_type": "code",
   "execution_count": 12,
   "id": "03077fd5",
   "metadata": {},
   "outputs": [
    {
     "name": "stdout",
     "output_type": "stream",
     "text": [
      "0 : alpro\n",
      "1 : alpro\n",
      "2 : alpro\n",
      "3 : alpro\n",
      "4 : alpro\n",
      "4 kelas E\n"
     ]
    }
   ],
   "source": [
    "for i in range(5):\n",
    "    print(i,': alpro')\n",
    "print(i, 'kelas E')"
   ]
  },
  {
   "cell_type": "code",
   "execution_count": 36,
   "id": "ed271fa1",
   "metadata": {},
   "outputs": [
    {
     "name": "stdout",
     "output_type": "stream",
     "text": [
      "5\n",
      "6\n",
      "7\n",
      "8\n",
      "9\n",
      "10\n",
      "end of iteration\n"
     ]
    }
   ],
   "source": [
    "for i in range(6):\n",
    "    print(i+5)\n",
    "print('end of iteration')"
   ]
  },
  {
   "cell_type": "code",
   "execution_count": null,
   "id": "cb3f11de",
   "metadata": {},
   "outputs": [],
   "source": [
    "number=int(input('masukkan angka maks = '))\n",
    "for i in range(number):\n",
    "    if i%2==1:\n",
    "        print('bilangan ganjil=',i)"
   ]
  },
  {
   "cell_type": "code",
   "execution_count": 2,
   "id": "76c82b9e",
   "metadata": {},
   "outputs": [
    {
     "name": "stdout",
     "output_type": "stream",
     "text": [
      "masukkan angka maks = 10\n",
      "bilangan ganjil= 1\n",
      "bilangan ganjil= 3\n",
      "bilangan ganjil= 5\n",
      "bilangan ganjil= 7\n",
      "bilangan ganjil= 9\n",
      "total angka= 25\n"
     ]
    }
   ],
   "source": [
    "temp=0\n",
    "number=int(input('masukkan angka maks = '))\n",
    "for i in range(number):\n",
    "    if i%2==1:\n",
    "        temp=temp+i\n",
    "        print('bilangan ganjil=',i)\n",
    "print('total angka=',temp)"
   ]
  },
  {
   "cell_type": "code",
   "execution_count": 39,
   "id": "797e8664",
   "metadata": {},
   "outputs": [
    {
     "name": "stdout",
     "output_type": "stream",
     "text": [
      "2\n",
      "4\n",
      "6\n",
      "8\n",
      "10\n",
      "12\n",
      "14\n",
      "16\n",
      "18\n",
      "20\n"
     ]
    }
   ],
   "source": [
    "# deret 2,4,6,...\n",
    "a=2\n",
    "b=2\n",
    "for i in range (10):\n",
    "    n=i+1\n",
    "    un=a+(n-1)*b\n",
    "    print(un)"
   ]
  },
  {
   "cell_type": "code",
   "execution_count": null,
   "id": "efe7c04e",
   "metadata": {},
   "outputs": [],
   "source": [
    "a=2\n",
    "b=2\n",
    "for i in range (2,21,2):\n",
    "    print(i)"
   ]
  },
  {
   "cell_type": "code",
   "execution_count": 17,
   "id": "74219d0f",
   "metadata": {},
   "outputs": [
    {
     "name": "stdout",
     "output_type": "stream",
     "text": [
      "2\n",
      "4\n",
      "6\n",
      "8\n",
      "10\n",
      "12\n",
      "14\n",
      "16\n",
      "18\n",
      "20\n",
      "total= 110\n"
     ]
    }
   ],
   "source": [
    "a=2\n",
    "temp=0\n",
    "for i in range (10):\n",
    "    print(a)\n",
    "    temp=temp+a\n",
    "    a=a+2\n",
    "print('total=',temp)"
   ]
  },
  {
   "cell_type": "code",
   "execution_count": 3,
   "id": "0b628895",
   "metadata": {},
   "outputs": [
    {
     "name": "stdout",
     "output_type": "stream",
     "text": [
      "0\n",
      "1\n",
      "2\n",
      "3\n",
      "4\n",
      "5\n",
      "end of a while\n"
     ]
    }
   ],
   "source": [
    "i=0\n",
    "while i<=5:\n",
    "    print(i)\n",
    "    #i=i+1\n",
    "    i+=1\n",
    "print('end of a while')"
   ]
  },
  {
   "cell_type": "code",
   "execution_count": 2,
   "id": "d16b526f",
   "metadata": {},
   "outputs": [
    {
     "name": "stdout",
     "output_type": "stream",
     "text": [
      "bilangan ganjil- 1 = 1\n",
      "bilangan ganjil- 2 = 3\n",
      "bilangan ganjil- 3 = 5\n",
      "bilangan ganjil- 4 = 7\n",
      "bilangan ganjil- 5 = 9\n",
      "end of a while\n"
     ]
    }
   ],
   "source": [
    "bil=0\n",
    "counter=1\n",
    "while counter<=5:\n",
    "    if bil%2==1:\n",
    "        print('bilangan ganjil-',counter,'=',bil)\n",
    "        counter+=1\n",
    "    bil+=1\n",
    "print('end of a while')"
   ]
  },
  {
   "cell_type": "code",
   "execution_count": 2,
   "id": "172931c5",
   "metadata": {},
   "outputs": [
    {
     "name": "stdout",
     "output_type": "stream",
     "text": [
      "lagi (y/t) ?y\n",
      "lagi (y/t) ?t\n"
     ]
    }
   ],
   "source": [
    "stop=False\n",
    "while not(stop):\n",
    "    inp=input('lagi (y/t) ?')\n",
    "    if inp=='y':\n",
    "        stop=False\n",
    "    else:\n",
    "        stop=True"
   ]
  },
  {
   "cell_type": "code",
   "execution_count": 1,
   "id": "0b040d69",
   "metadata": {},
   "outputs": [
    {
     "name": "stdout",
     "output_type": "stream",
     "text": [
      "bukan bilangan ganjil\n",
      "lagi (y/t) = y\n",
      "bilangan ganjil- 1 = 1\n",
      "lagi (y/t) = y\n",
      "bukan bilangan ganjil\n",
      "lagi (y/t) = y\n",
      "bilangan ganjil- 2 = 3\n",
      "lagi (y/t) = y\n",
      "bukan bilangan ganjil\n",
      "lagi (y/t) = y\n",
      "bilangan ganjil- 3 = 5\n",
      "lagi (y/t) = y\n",
      "bukan bilangan ganjil\n",
      "lagi (y/t) = y\n",
      "bilangan ganjil- 4 = 7\n",
      "lagi (y/t) = t\n"
     ]
    }
   ],
   "source": [
    "#kondisi1 --> False\n",
    "#kondisi2 --> False\n",
    "\n",
    "stop=False\n",
    "bilangan=0\n",
    "counter=1\n",
    "while counter<=4 and not(stop):\n",
    "    if bilangan%2==1:\n",
    "        print('bilangan ganjil-',counter,'=',bilangan)\n",
    "        counter+=1\n",
    "    else:\n",
    "        print('bukan bilangan ganjil')\n",
    "    bilangan+=1\n",
    "    inp=input('lagi (y/t) = ')\n",
    "    if inp=='y':\n",
    "        stop=False\n",
    "    else:\n",
    "        stop=True"
   ]
  },
  {
   "cell_type": "code",
   "execution_count": 1,
   "id": "0e73e510",
   "metadata": {},
   "outputs": [
    {
     "name": "stdout",
     "output_type": "stream",
     "text": [
      "masukkan bilangan = 6\n",
      "3\n",
      "1\n",
      "0\n"
     ]
    }
   ],
   "source": [
    "bilangan=int(input('masukkan bilangan = '))\n",
    "hasilDiv=bilangan\n",
    "while hasilDiv!=0:\n",
    "    hasilDiv=hasilDiv//2\n",
    "    print(hasilDiv)"
   ]
  },
  {
   "cell_type": "code",
   "execution_count": 3,
   "id": "4ac463f1",
   "metadata": {},
   "outputs": [
    {
     "name": "stdout",
     "output_type": "stream",
     "text": [
      "masukkan bilangan = 6\n",
      "0\n",
      "1\n",
      "1\n",
      "6 : 110\n"
     ]
    }
   ],
   "source": [
    "bilangan=int(input('masukkan bilangan = '))\n",
    "hasilDiv=bilangan\n",
    "strBiner=''\n",
    "while hasilDiv!=0:\n",
    "    hasilMod=hasilDiv%2\n",
    "    hasilDiv=hasilDiv//2\n",
    "    strBiner=str(hasilMod)+strBiner\n",
    "    print(hasilMod)\n",
    "print(bilangan,':',strBiner)"
   ]
  },
  {
   "cell_type": "code",
   "execution_count": 7,
   "id": "26bd7565",
   "metadata": {},
   "outputs": [
    {
     "name": "stdout",
     "output_type": "stream",
     "text": [
      "nilai uts = 80\n",
      "nilai uas = 90\n",
      "nilai tugas akhir = 100\n",
      "rata-rata 90.0\n",
      "nilai A\n"
     ]
    }
   ],
   "source": [
    "uts=int(input('nilai uts = '))\n",
    "uas=int(input('nilai uas = '))\n",
    "tugas=int(input('nilai tugas akhir = '))\n",
    "\n",
    "rata2=(uts+uas+tugas)/3\n",
    "print('rata-rata',rata2)\n",
    "\n",
    "if rata2>=0 and rata2<=40 :\n",
    "    print('nilai E')\n",
    "elif rata2>40 and rata2<=60 :\n",
    "    print('nilai D')\n",
    "elif rata2>60 and rata2<=80 :\n",
    "    print('nilai C')\n",
    "elif rata2>80 and rata2<=90 :\n",
    "    print('nilai B')\n",
    "else :\n",
    "    print('nilai A')"
   ]
  },
  {
   "cell_type": "code",
   "execution_count": 9,
   "id": "f3a13c41",
   "metadata": {},
   "outputs": [
    {
     "name": "stdout",
     "output_type": "stream",
     "text": [
      "nilai uts = 90\n",
      "nilai uas = 80\n",
      "nilai tugas akhir = 80\n",
      "rata-rata 83.0\n",
      "nilai A\n"
     ]
    }
   ],
   "source": [
    "uts=int(input('nilai uts = '))\n",
    "uas=int(input('nilai uas = '))\n",
    "tugas=int(input('nilai tugas akhir = '))\n",
    "\n",
    "rata2=(uts*0.3)+(uas*0.3)+(tugas*0.4)\n",
    "print('rata-rata',rata2)\n",
    "\n",
    "if rata2>=0 and rata2<=40 :\n",
    "    print('nilai E')\n",
    "elif rata2>40 and rata2<=60 :\n",
    "    print('nilai D')\n",
    "elif rata2>60 and rata2<=80 :\n",
    "    print('nilai C')\n",
    "elif rata2>80 and rata2<=90 :\n",
    "    print('nilai B')\n",
    "else :\n",
    "    print('nilai A')"
   ]
  },
  {
   "cell_type": "code",
   "execution_count": 15,
   "id": "1d75f559",
   "metadata": {},
   "outputs": [
    {
     "name": "stdout",
     "output_type": "stream",
     "text": [
      "5\n",
      "6\n",
      "7\n"
     ]
    }
   ],
   "source": [
    "stop=False\n",
    "i=5\n",
    "while not(stop):\n",
    "    print(i)\n",
    "    i=i+1\n",
    "    stop=True"
   ]
  },
  {
   "cell_type": "code",
   "execution_count": 16,
   "id": "ddfe9fd8",
   "metadata": {},
   "outputs": [
    {
     "name": "stdout",
     "output_type": "stream",
     "text": [
      "5\n",
      "6\n",
      "7\n"
     ]
    }
   ],
   "source": [
    "stop=False\n",
    "i=5\n",
    "while not(stop):\n",
    "    if i==7:\n",
    "        stop=True\n",
    "    print(i)\n",
    "    i=i+1"
   ]
  },
  {
   "cell_type": "code",
   "execution_count": 23,
   "id": "2254a156",
   "metadata": {},
   "outputs": [
    {
     "name": "stdout",
     "output_type": "stream",
     "text": [
      "berapa = 10\n",
      "0\n",
      "1\n",
      "2\n",
      "3\n",
      "4\n",
      "5\n",
      "6\n",
      "7\n",
      "8\n",
      "9\n"
     ]
    }
   ],
   "source": [
    "a=int(input('berapa = '))\n",
    "i=0\n",
    "for i in range(a):\n",
    "    print(i)"
   ]
  },
  {
   "cell_type": "code",
   "execution_count": 37,
   "id": "0d7d3664",
   "metadata": {},
   "outputs": [
    {
     "name": "stdout",
     "output_type": "stream",
     "text": [
      "berapa = 10\n",
      "1\n",
      "2\n",
      "3\n",
      "4\n",
      "5\n",
      "6\n",
      "7\n",
      "8\n",
      "9\n",
      "10\n"
     ]
    }
   ],
   "source": [
    "a=int(input('berapa = '))\n",
    "\n",
    "for i in range(a):\n",
    "    print(i+1)"
   ]
  },
  {
   "cell_type": "code",
   "execution_count": 38,
   "id": "965fd65b",
   "metadata": {},
   "outputs": [
    {
     "name": "stdout",
     "output_type": "stream",
     "text": [
      "masukkan angka maks = 10\n",
      "bilangan ganjil= 1\n",
      "bilangan ganjil= 3\n",
      "bilangan ganjil= 5\n",
      "bilangan ganjil= 7\n",
      "bilangan ganjil= 9\n"
     ]
    }
   ],
   "source": [
    "maks=int(input('masukkan angka maks = '))\n",
    "for i in range(maks):\n",
    "    if i%2==1:\n",
    "        print('bilangan ganjil=',i)"
   ]
  },
  {
   "cell_type": "code",
   "execution_count": 41,
   "id": "dd0bb45f",
   "metadata": {},
   "outputs": [
    {
     "name": "stdout",
     "output_type": "stream",
     "text": [
      "maks = 10\n",
      "3\n",
      "5\n",
      "7\n",
      "9\n",
      "11\n",
      "13\n",
      "15\n",
      "17\n",
      "19\n",
      "21\n"
     ]
    }
   ],
   "source": [
    "maks=int(input('maks = '))\n",
    "a=3\n",
    "b=2\n",
    "for i in range(maks):\n",
    "    n=i+1\n",
    "    un=a+(n-1)*b\n",
    "    print(un)"
   ]
  },
  {
   "cell_type": "code",
   "execution_count": 47,
   "id": "09179091",
   "metadata": {},
   "outputs": [
    {
     "name": "stdout",
     "output_type": "stream",
     "text": [
      "3\n",
      "5\n",
      "7\n",
      "9\n",
      "11\n",
      "13\n",
      "15\n",
      "17\n",
      "19\n",
      "21\n",
      "total 120\n"
     ]
    }
   ],
   "source": [
    "awal=3\n",
    "banyak=10\n",
    "hsl=0\n",
    "for i in range(banyak):\n",
    "    hsl=hsl+awal\n",
    "    print(awal)\n",
    "    awal=awal+2\n",
    "print('total',hsl)"
   ]
  },
  {
   "cell_type": "code",
   "execution_count": 10,
   "id": "e3251ef1",
   "metadata": {},
   "outputs": [
    {
     "name": "stdout",
     "output_type": "stream",
     "text": [
      "banyak: 5\n",
      "angka pertama: 2\n",
      "2\n",
      "4\n",
      "8\n",
      "16\n",
      "32\n"
     ]
    }
   ],
   "source": [
    "banyak=int(input('banyak: '))\n",
    "a1=int(input('angka pertama: '))\n",
    "a2=a1\n",
    "a=0\n",
    "for i in range(banyak):\n",
    "    a=a+a1\n",
    "    print(a1)\n",
    "    a1=a1+a2\n",
    "    a2=a1\n",
    "    "
   ]
  },
  {
   "cell_type": "code",
   "execution_count": 1,
   "id": "2d150deb",
   "metadata": {
    "scrolled": true
   },
   "outputs": [
    {
     "name": "stdout",
     "output_type": "stream",
     "text": [
      "banyak: 5\n",
      "1\n",
      "1\n",
      "2\n",
      "3\n",
      "5\n",
      "8\n",
      "13\n",
      "21\n",
      "34\n",
      "55\n"
     ]
    }
   ],
   "source": [
    "banyak=int(input('banyak: '))\n",
    "a1=1\n",
    "a2=1\n",
    "\n",
    "for i in range(banyak):\n",
    "    print(a1)\n",
    "    print(a2)\n",
    "    a1=a1+a2\n",
    "    a2=a2+a1"
   ]
  },
  {
   "cell_type": "code",
   "execution_count": null,
   "id": "6c4d9fb8",
   "metadata": {},
   "outputs": [],
   "source": [
    "bil=int(input('banyak bilangan: '))\n",
    "cnt=0\n",
    "a1=1\n",
    "a2=1\n",
    "\n",
    "while cnt<bil:\n",
    "    print(a1)\n",
    "    p=a1+a2\n",
    "    a1=a2\n",
    "    a2=p\n",
    "    cnt+=1"
   ]
  },
  {
   "cell_type": "code",
   "execution_count": 4,
   "id": "0bb9e905",
   "metadata": {},
   "outputs": [
    {
     "name": "stdout",
     "output_type": "stream",
     "text": [
      "banyak bilangan: 10\n",
      "1\n",
      "1\n",
      "2\n",
      "3\n",
      "5\n",
      "8\n",
      "13\n",
      "21\n",
      "34\n",
      "55\n"
     ]
    }
   ],
   "source": [
    "bil=int(input('banyak bilangan: '))\n",
    "a1=1\n",
    "a2=1\n",
    "\n",
    "for i in range(bil):\n",
    "    print(a1)\n",
    "    p=a1+a2\n",
    "    a1=a2\n",
    "    a2=p"
   ]
  },
  {
   "cell_type": "code",
   "execution_count": 1,
   "id": "2fe129ae",
   "metadata": {},
   "outputs": [
    {
     "name": "stdout",
     "output_type": "stream",
     "text": [
      "masukkan angka maks = 20\n",
      "bilangan ganjil= 11\n",
      "bilangan ganjil= 13\n",
      "bilangan ganjil= 15\n",
      "bilangan ganjil= 17\n",
      "bilangan ganjil= 19\n",
      "bilangan ganjil= 21\n",
      "bilangan ganjil= 23\n",
      "bilangan ganjil= 25\n",
      "bilangan ganjil= 27\n",
      "bilangan ganjil= 29\n"
     ]
    }
   ],
   "source": [
    "maks=int(input('masukkan angka maks = '))\n",
    "for i in range(maks):\n",
    "    if i%2==1:\n",
    "        print('bilangan ganjil=',i+10)\n",
    "        i+=1"
   ]
  },
  {
   "cell_type": "code",
   "execution_count": 7,
   "id": "91835990",
   "metadata": {},
   "outputs": [
    {
     "name": "stdout",
     "output_type": "stream",
     "text": [
      "n = 5\n",
      "1\n",
      "2\n",
      "3\n",
      "4\n",
      "5\n",
      "y= 15\n"
     ]
    }
   ],
   "source": [
    "n=int(input('n = '))\n",
    "i=1\n",
    "temp=0\n",
    "\n",
    "for i in range(1,n):\n",
    "    print(i)\n",
    "    temp=temp+i+1\n",
    "    i=i+1\n",
    "print('y=',temp)"
   ]
  },
  {
   "cell_type": "code",
   "execution_count": 8,
   "id": "6845a3d7",
   "metadata": {},
   "outputs": [
    {
     "name": "stdout",
     "output_type": "stream",
     "text": [
      "n = 5\n",
      "1\n",
      "2\n",
      "3\n",
      "4\n",
      "5\n",
      "y= 15\n"
     ]
    }
   ],
   "source": [
    "n=int(input('n = '))\n",
    "i=1\n",
    "temp=0\n",
    "\n",
    "for i in range(1,n+1):\n",
    "    print(i)\n",
    "    temp=temp+i\n",
    "    i=i+1\n",
    "print('y=',temp)"
   ]
  },
  {
   "cell_type": "code",
   "execution_count": 17,
   "id": "2cecfa96",
   "metadata": {},
   "outputs": [
    {
     "name": "stdout",
     "output_type": "stream",
     "text": [
      "n = 5\n",
      "1\n",
      "2\n",
      "3\n",
      "4\n",
      "5\n",
      "y= 50\n"
     ]
    }
   ],
   "source": [
    "n=int(input('n = '))\n",
    "temp=0\n",
    "\n",
    "for i in range(1,n+1):\n",
    "    temp=temp+2*i+4\n",
    "    print(i)\n",
    "print('y=',temp)"
   ]
  },
  {
   "cell_type": "code",
   "execution_count": 13,
   "id": "76ccdf47",
   "metadata": {},
   "outputs": [
    {
     "name": "stdout",
     "output_type": "stream",
     "text": [
      "n = 5\n",
      "6\n",
      "8\n",
      "10\n",
      "12\n",
      "14\n",
      "y = 50\n"
     ]
    }
   ],
   "source": [
    "n=int(input('n = '))\n",
    "temp=0\n",
    "\n",
    "for i in range(1,n+1):\n",
    "    y=2*i+4\n",
    "    print(y)\n",
    "    temp=temp+y\n",
    "print('y =',temp)"
   ]
  },
  {
   "cell_type": "code",
   "execution_count": 21,
   "id": "675a41db",
   "metadata": {},
   "outputs": [
    {
     "name": "stdout",
     "output_type": "stream",
     "text": [
      "n = 2\n",
      "x = 5\n",
      "1\n",
      "4\n",
      "y = 10\n"
     ]
    }
   ],
   "source": [
    "n=int(input('n = '))\n",
    "x=int(input('x = '))\n",
    "temp=0\n",
    "\n",
    "for i in range(1,n+1):\n",
    "    s=i**2\n",
    "    print(s)\n",
    "    temp=temp+s\n",
    "print('y =',x+temp)"
   ]
  },
  {
   "cell_type": "code",
   "execution_count": 22,
   "id": "76217ae8",
   "metadata": {},
   "outputs": [
    {
     "name": "stdout",
     "output_type": "stream",
     "text": [
      "a\n",
      "l\n",
      "p\n",
      "r\n",
      "o\n"
     ]
    }
   ],
   "source": [
    "data='alpro'\n",
    "for ch in data:\n",
    "    print(ch)"
   ]
  },
  {
   "cell_type": "code",
   "execution_count": 28,
   "id": "0a7a4d9c",
   "metadata": {},
   "outputs": [
    {
     "name": "stdout",
     "output_type": "stream",
     "text": [
      "masukkan angka = 5\n"
     ]
    }
   ],
   "source": [
    "a=int(input('masukkan angka = '))\n",
    "\n",
    "if a%1==0 and a%a==0:\n",
    "    print('bil',a,'adalah bilangan prima')\n",
    "if  a%2==0:\n",
    "    print('bil',a,'bukan bilangan prima')"
   ]
  },
  {
   "cell_type": "code",
   "execution_count": 38,
   "id": "83bfb20e",
   "metadata": {},
   "outputs": [
    {
     "name": "stdout",
     "output_type": "stream",
     "text": [
      "masukkan angka = 7\n",
      "1\n",
      "7\n",
      "bil prima\n"
     ]
    }
   ],
   "source": [
    "bil=int(input('masukkan angka = '))\n",
    "\n",
    "if a>=2:\n",
    "    bagi=0\n",
    "    for i in range(1,bil+1):\n",
    "        if bil%i==0:\n",
    "            print(i)\n",
    "            bagi+=1\n",
    "    if bagi==2:\n",
    "        print('bil prima')\n",
    "    else:\n",
    "        print('bukan bil prima')\n",
    "else:\n",
    "    print('bukan bil prima')"
   ]
  },
  {
   "cell_type": "code",
   "execution_count": 1,
   "id": "5005551e",
   "metadata": {},
   "outputs": [
    {
     "name": "stdout",
     "output_type": "stream",
     "text": [
      "masukkan angka = 25\n",
      "bukan bil prima, bil pembagi : [ 1 5 25 ]\n"
     ]
    }
   ],
   "source": [
    "bil=int(input('masukkan angka = '))\n",
    "counter=0\n",
    "pembagi='['\n",
    "for i in range(1,bil+1):\n",
    "    if bil%i==0:\n",
    "        counter+=1\n",
    "        pembagi=pembagi+' '+str(i)\n",
    "pembagi=pembagi+' ]'\n",
    "    \n",
    "if counter==2:\n",
    "    print('bil prima')\n",
    "else:\n",
    "    print('bukan bil prima, bil pembagi :',pembagi)"
   ]
  },
  {
   "cell_type": "code",
   "execution_count": 1,
   "id": "9f0664da",
   "metadata": {},
   "outputs": [
    {
     "name": "stdout",
     "output_type": "stream",
     "text": [
      "0\n"
     ]
    }
   ],
   "source": [
    "a=6%3\n",
    "print(a)"
   ]
  },
  {
   "cell_type": "code",
   "execution_count": null,
   "id": "7f191b1c",
   "metadata": {},
   "outputs": [],
   "source": []
  }
 ],
 "metadata": {
  "kernelspec": {
   "display_name": "Python 3 (ipykernel)",
   "language": "python",
   "name": "python3"
  },
  "language_info": {
   "codemirror_mode": {
    "name": "ipython",
    "version": 3
   },
   "file_extension": ".py",
   "mimetype": "text/x-python",
   "name": "python",
   "nbconvert_exporter": "python",
   "pygments_lexer": "ipython3",
   "version": "3.10.6"
  }
 },
 "nbformat": 4,
 "nbformat_minor": 5
}
