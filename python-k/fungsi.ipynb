{
 "cells": [
  {
   "cell_type": "code",
   "execution_count": 1,
   "id": "6af96b8d",
   "metadata": {},
   "outputs": [
    {
     "name": "stdout",
     "output_type": "stream",
     "text": [
      "Masukkan ukuran list = 3\n",
      "Masukkan data ke-0 = 4\n",
      "Masukkan data ke-1 = 5\n",
      "Masukkan data ke-2 = 8\n",
      "Masukkan ukuran list = 4\n",
      "Masukkan data ke-0 = 8\n",
      "Masukkan data ke-1 = 9\n",
      "Masukkan data ke-2 = 0\n",
      "Masukkan data ke-3 = 3\n",
      "[4, 5, 8]\n",
      "[8, 9, 0, 3]\n"
     ]
    }
   ],
   "source": [
    "list1=[]\n",
    "list2=[]\n",
    "sizeList=int(input('Masukkan ukuran list = '))\n",
    "for i in range(sizeList):\n",
    "    temp='Masukkan data ke-'+str(i)+' = '\n",
    "    list1.append(int(input(temp)))\n",
    "    \n",
    "sizeList=int(input('Masukkan ukuran list = '))\n",
    "for i in range(sizeList):\n",
    "    temp='Masukkan data ke-'+str(i)+' = '\n",
    "    list2.append(int(input(temp)))\n",
    "print(list1)\n",
    "print(list2)"
   ]
  },
  {
   "cell_type": "markdown",
   "id": "f57503b2",
   "metadata": {},
   "source": [
    "### Fungsi 1 - tanpa parameter, tanpa return value\n",
    "```\n",
    "def NamaFungsi():\n",
    "    syntax_1\n",
    "    syntax_2\n",
    "```"
   ]
  },
  {
   "cell_type": "code",
   "execution_count": 2,
   "id": "0ae43033",
   "metadata": {},
   "outputs": [],
   "source": [
    "def displayText():\n",
    "    print('Algortima Pemrograman')"
   ]
  },
  {
   "cell_type": "code",
   "execution_count": 3,
   "id": "12673ebd",
   "metadata": {},
   "outputs": [
    {
     "name": "stdout",
     "output_type": "stream",
     "text": [
      "Algortima Pemrograman\n"
     ]
    }
   ],
   "source": [
    "displayText()"
   ]
  },
  {
   "cell_type": "code",
   "execution_count": 6,
   "id": "dcb408a2",
   "metadata": {},
   "outputs": [],
   "source": [
    "def penjumlahan():\n",
    "    bil1=int(input('masukkan bil 1 = '))\n",
    "    bil2=int(input('masukkan bil 2 = '))\n",
    "    has=bil1+bil2\n",
    "    print(has)"
   ]
  },
  {
   "cell_type": "code",
   "execution_count": 7,
   "id": "282006ed",
   "metadata": {},
   "outputs": [
    {
     "name": "stdout",
     "output_type": "stream",
     "text": [
      "masukkan bil 1 = 3\n",
      "masukkan bil 2 = 4\n",
      "7\n"
     ]
    }
   ],
   "source": [
    "penjumlahan()"
   ]
  },
  {
   "cell_type": "markdown",
   "id": "d3a2c841",
   "metadata": {},
   "source": [
    "### Fungsi 2 - dgn parameter atau argumen\n",
    "```\n",
    "def NamaFungsi(parameter1,parameter2,...,parameter_n):\n",
    "    syntax_1\n",
    "    syntax_2\n",
    "```"
   ]
  },
  {
   "cell_type": "code",
   "execution_count": 2,
   "id": "d83e82ed",
   "metadata": {},
   "outputs": [],
   "source": [
    "def displayText(txt):\n",
    "    print(txt)"
   ]
  },
  {
   "cell_type": "code",
   "execution_count": 9,
   "id": "b64b3b87",
   "metadata": {},
   "outputs": [
    {
     "name": "stdout",
     "output_type": "stream",
     "text": [
      "Algoritma Pemrograman\n"
     ]
    }
   ],
   "source": [
    "displayText('Algoritma Pemrograman')"
   ]
  },
  {
   "cell_type": "code",
   "execution_count": 3,
   "id": "067657f8",
   "metadata": {},
   "outputs": [
    {
     "name": "stdout",
     "output_type": "stream",
     "text": [
      "masukkan text = trunojoyo\n",
      "trunojoyo\n"
     ]
    }
   ],
   "source": [
    "temp=input('masukkan text = ')\n",
    "displayText(temp)"
   ]
  },
  {
   "cell_type": "code",
   "execution_count": 4,
   "id": "cc262f2e",
   "metadata": {},
   "outputs": [],
   "source": [
    "def penjumlahan(bil1,bil2):\n",
    "    has=bil1+bil2\n",
    "    print(has)"
   ]
  },
  {
   "cell_type": "code",
   "execution_count": 5,
   "id": "60abfbcf",
   "metadata": {},
   "outputs": [
    {
     "name": "stdout",
     "output_type": "stream",
     "text": [
      "6\n"
     ]
    }
   ],
   "source": [
    "penjumlahan(4,2)"
   ]
  },
  {
   "cell_type": "code",
   "execution_count": 11,
   "id": "ae42967d",
   "metadata": {},
   "outputs": [
    {
     "name": "stdout",
     "output_type": "stream",
     "text": [
      "6\n",
      "None\n"
     ]
    }
   ],
   "source": [
    "data=penjumlahan(4,2)\n",
    "print(data)"
   ]
  },
  {
   "cell_type": "code",
   "execution_count": 6,
   "id": "a3e2e1a2",
   "metadata": {},
   "outputs": [
    {
     "name": "stdout",
     "output_type": "stream",
     "text": [
      "bil 1 = 6\n",
      "bil 2 = 7\n",
      "13\n"
     ]
    }
   ],
   "source": [
    "a=int(input('bil 1 = '))\n",
    "b=int(input('bil 2 = '))\n",
    "penjumlahan(a,b)"
   ]
  },
  {
   "cell_type": "markdown",
   "id": "4aa9257c",
   "metadata": {},
   "source": [
    "### Fungsi 3 - dgn parameter atau argumen dan dgn return value\n",
    "```\n",
    "def NamaFungsi(parameter1,parameter2,...,parameter_n):\n",
    "    syntax_1\n",
    "    syntax_2\n",
    "    ...\n",
    "    return value\n",
    "```"
   ]
  },
  {
   "cell_type": "code",
   "execution_count": 7,
   "id": "9c9ed34c",
   "metadata": {},
   "outputs": [],
   "source": [
    "def penjumlahan(bil1,bil2):\n",
    "    has=bil1+bil2\n",
    "    print(has)"
   ]
  },
  {
   "cell_type": "code",
   "execution_count": 8,
   "id": "58e79577",
   "metadata": {},
   "outputs": [
    {
     "name": "stdout",
     "output_type": "stream",
     "text": [
      "6\n"
     ]
    },
    {
     "ename": "TypeError",
     "evalue": "unsupported operand type(s) for *: 'NoneType' and 'int'",
     "output_type": "error",
     "traceback": [
      "\u001b[1;31m---------------------------------------------------------------------------\u001b[0m",
      "\u001b[1;31mTypeError\u001b[0m                                 Traceback (most recent call last)",
      "Input \u001b[1;32mIn [8]\u001b[0m, in \u001b[0;36m<cell line: 1>\u001b[1;34m()\u001b[0m\n\u001b[1;32m----> 1\u001b[0m \u001b[43mpenjumlahan\u001b[49m\u001b[43m(\u001b[49m\u001b[38;5;241;43m4\u001b[39;49m\u001b[43m,\u001b[49m\u001b[38;5;241;43m2\u001b[39;49m\u001b[43m)\u001b[49m\u001b[38;5;241;43m*\u001b[39;49m\u001b[38;5;241;43m3\u001b[39;49m\n",
      "\u001b[1;31mTypeError\u001b[0m: unsupported operand type(s) for *: 'NoneType' and 'int'"
     ]
    }
   ],
   "source": [
    "penjumlahan(4,2)*3"
   ]
  },
  {
   "cell_type": "code",
   "execution_count": 9,
   "id": "ac881d70",
   "metadata": {},
   "outputs": [],
   "source": [
    "def penjumlahan2(bil1,bil2):\n",
    "    has=bil1+bil2\n",
    "    print('di dalam fungsi = ',has)\n",
    "    return has"
   ]
  },
  {
   "cell_type": "code",
   "execution_count": 10,
   "id": "d78789c2",
   "metadata": {},
   "outputs": [
    {
     "name": "stdout",
     "output_type": "stream",
     "text": [
      "9\n",
      "27\n"
     ]
    }
   ],
   "source": [
    "print(penjumlahan2(4,5)*3)"
   ]
  },
  {
   "cell_type": "code",
   "execution_count": 12,
   "id": "6eba7198",
   "metadata": {},
   "outputs": [
    {
     "name": "stdout",
     "output_type": "stream",
     "text": [
      "9\n",
      "data = 9\n"
     ]
    }
   ],
   "source": [
    "data=penjumlahan2(4,5)\n",
    "print('data =',data)"
   ]
  },
  {
   "cell_type": "code",
   "execution_count": 13,
   "id": "34116822",
   "metadata": {},
   "outputs": [
    {
     "name": "stdout",
     "output_type": "stream",
     "text": [
      "81\n"
     ]
    }
   ],
   "source": [
    "print(data**2)"
   ]
  },
  {
   "cell_type": "markdown",
   "id": "1f298902",
   "metadata": {},
   "source": [
    "### membuat list di dalam fungsi"
   ]
  },
  {
   "cell_type": "code",
   "execution_count": 14,
   "id": "5a2cbe4f",
   "metadata": {},
   "outputs": [],
   "source": [
    "def createList(sizeList):\n",
    "    tempList=[]\n",
    "    for i in range(sizeList):\n",
    "        temp='Masukkan data ke-'+str(i)+' = '\n",
    "        tempList.append(int(input(temp)))\n",
    "    return tempList"
   ]
  },
  {
   "cell_type": "code",
   "execution_count": 15,
   "id": "2aef1b99",
   "metadata": {},
   "outputs": [
    {
     "name": "stdout",
     "output_type": "stream",
     "text": [
      "Masukkan data ke-0 = 1\n",
      "Masukkan data ke-1 = 2\n",
      "Masukkan data ke-2 = 3\n",
      "Masukkan data ke-3 = 4\n"
     ]
    }
   ],
   "source": [
    "list1=createList(4)"
   ]
  },
  {
   "cell_type": "code",
   "execution_count": 16,
   "id": "855d8cc2",
   "metadata": {},
   "outputs": [
    {
     "name": "stdout",
     "output_type": "stream",
     "text": [
      "[1, 2, 3, 4]\n"
     ]
    }
   ],
   "source": [
    "print(list1)"
   ]
  },
  {
   "cell_type": "code",
   "execution_count": 17,
   "id": "6e98f21f",
   "metadata": {},
   "outputs": [
    {
     "name": "stdout",
     "output_type": "stream",
     "text": [
      "Masukkan data ke-0 = 3\n",
      "Masukkan data ke-1 = 5\n",
      "Masukkan data ke-2 = 1\n",
      "Masukkan data ke-3 = 2\n",
      "Masukkan data ke-4 = 7\n",
      "[3, 5, 1, 2, 7]\n"
     ]
    }
   ],
   "source": [
    "list2=createList(5)\n",
    "print(list2)"
   ]
  },
  {
   "cell_type": "code",
   "execution_count": null,
   "id": "e687d08d",
   "metadata": {},
   "outputs": [],
   "source": []
  }
 ],
 "metadata": {
  "kernelspec": {
   "display_name": "Python 3 (ipykernel)",
   "language": "python",
   "name": "python3"
  },
  "language_info": {
   "codemirror_mode": {
    "name": "ipython",
    "version": 3
   },
   "file_extension": ".py",
   "mimetype": "text/x-python",
   "name": "python",
   "nbconvert_exporter": "python",
   "pygments_lexer": "ipython3",
   "version": "3.10.6"
  }
 },
 "nbformat": 4,
 "nbformat_minor": 5
}
