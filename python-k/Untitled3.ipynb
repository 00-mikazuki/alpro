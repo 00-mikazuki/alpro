{
 "cells": [
  {
   "cell_type": "code",
   "execution_count": 7,
   "id": "28226ec6",
   "metadata": {},
   "outputs": [],
   "source": [
    "data='kelas algoritma'"
   ]
  },
  {
   "cell_type": "code",
   "execution_count": 10,
   "id": "1abcc3bf",
   "metadata": {},
   "outputs": [
    {
     "name": "stdout",
     "output_type": "stream",
     "text": [
      "s\n"
     ]
    }
   ],
   "source": [
    "print(data[4])"
   ]
  },
  {
   "cell_type": "code",
   "execution_count": 13,
   "id": "41621017",
   "metadata": {},
   "outputs": [
    {
     "data": {
      "text/plain": [
       "15"
      ]
     },
     "execution_count": 13,
     "metadata": {},
     "output_type": "execute_result"
    }
   ],
   "source": [
    "len(data)"
   ]
  },
  {
   "cell_type": "code",
   "execution_count": 9,
   "id": "05106d90",
   "metadata": {},
   "outputs": [
    {
     "name": "stdout",
     "output_type": "stream",
     "text": [
      "0 k\n",
      "1 e\n",
      "2 l\n",
      "3 a\n",
      "4 s\n",
      "5  \n",
      "6 a\n",
      "7 l\n",
      "8 g\n",
      "9 o\n",
      "10 r\n",
      "11 i\n",
      "12 t\n",
      "13 m\n",
      "14 a\n"
     ]
    }
   ],
   "source": [
    "for i in range(len(data)):\n",
    "    print(i, data[i])"
   ]
  },
  {
   "cell_type": "code",
   "execution_count": 11,
   "id": "df35b30d",
   "metadata": {},
   "outputs": [
    {
     "data": {
      "text/plain": [
       "'Kelas algoritma'"
      ]
     },
     "execution_count": 11,
     "metadata": {},
     "output_type": "execute_result"
    }
   ],
   "source": [
    "data.capitalize()"
   ]
  },
  {
   "cell_type": "code",
   "execution_count": 12,
   "id": "922d18c2",
   "metadata": {},
   "outputs": [
    {
     "data": {
      "text/plain": [
       "'KELAS ALGORITMA'"
      ]
     },
     "execution_count": 12,
     "metadata": {},
     "output_type": "execute_result"
    }
   ],
   "source": [
    "data.upper()"
   ]
  },
  {
   "cell_type": "code",
   "execution_count": 45,
   "id": "d0f92a03",
   "metadata": {},
   "outputs": [
    {
     "name": "stdout",
     "output_type": "stream",
     "text": [
      "kata =alpro\n",
      "2\n"
     ]
    }
   ],
   "source": [
    "inp=input('kata =')\n",
    "vokal='aiueo'\n",
    "count=0\n",
    "\n",
    "for chr in inp:\n",
    "    if chr=='a':\n",
    "        count=count+1\n",
    "    elif chr=='i':\n",
    "        count=count+1\n",
    "    elif chr=='u':\n",
    "        count=count+1\n",
    "    elif chr=='e':\n",
    "        count=count+1\n",
    "    elif chr=='o':\n",
    "        count=count+1\n",
    "print(count)"
   ]
  },
  {
   "cell_type": "code",
   "execution_count": 48,
   "id": "2f345310",
   "metadata": {
    "scrolled": true
   },
   "outputs": [
    {
     "name": "stdout",
     "output_type": "stream",
     "text": [
      "kata =alpro\n",
      "2\n"
     ]
    }
   ],
   "source": [
    "inp=input('kata =')\n",
    "vokal='aiueo'\n",
    "count=0\n",
    "\n",
    "for chr in inp:\n",
    "    if chr=='a' or chr=='i' or chr=='u' or chr=='e' or chr=='o':\n",
    "        count=count+1\n",
    "print(count)"
   ]
  },
  {
   "cell_type": "code",
   "execution_count": 50,
   "id": "6f45d948",
   "metadata": {},
   "outputs": [
    {
     "name": "stdout",
     "output_type": "stream",
     "text": [
      "kata =algoritma\n",
      "4\n"
     ]
    }
   ],
   "source": [
    "inp=input('kata =')\n",
    "vokal='aiueo'\n",
    "count=0\n",
    "\n",
    "for i in range(len(inp)):\n",
    "    if inp[i]=='a' or inp[i]=='i' or inp[i]=='u' or inp[i]=='e' or inp[i]=='o':\n",
    "        count=count+1\n",
    "print(count)"
   ]
  },
  {
   "cell_type": "code",
   "execution_count": 43,
   "id": "cf7b3693",
   "metadata": {},
   "outputs": [
    {
     "data": {
      "text/plain": [
       "False"
      ]
     },
     "execution_count": 43,
     "metadata": {},
     "output_type": "execute_result"
    }
   ],
   "source": [
    "'s' in 'aiueo'"
   ]
  },
  {
   "cell_type": "code",
   "execution_count": 46,
   "id": "4c3b7075",
   "metadata": {},
   "outputs": [
    {
     "name": "stdout",
     "output_type": "stream",
     "text": [
      "kata =alpro\n",
      "2\n"
     ]
    }
   ],
   "source": [
    "inp=input('kata =')\n",
    "vokal='aiueo'\n",
    "count=0\n",
    "\n",
    "for chr in inp:\n",
    "    if chr in vokal:\n",
    "        count+=1\n",
    "print(count)"
   ]
  },
  {
   "cell_type": "code",
   "execution_count": 45,
   "id": "3b05b6cb",
   "metadata": {},
   "outputs": [
    {
     "name": "stdout",
     "output_type": "stream",
     "text": [
      "masukkan biner = 1010\n",
      "10\n"
     ]
    }
   ],
   "source": [
    "binStr=input('masukkan biner = ')\n",
    "pangkat=0\n",
    "hasil=0\n",
    "for i in range(len(binStr)-1,-1,-1): \n",
    "    hasil=hasil+int(binStr[i])*2**pangkat\n",
    "    pangkat+=1\n",
    "print(hasil)"
   ]
  },
  {
   "cell_type": "code",
   "execution_count": 16,
   "id": "74772201",
   "metadata": {},
   "outputs": [
    {
     "name": "stdout",
     "output_type": "stream",
     "text": [
      "Banyaknya bilangan = 5\n",
      "[1/4 1/7 1/10 1/13 ]\n"
     ]
    }
   ],
   "source": [
    "n=int(input('Banyaknya bilangan = '))\n",
    "a=int(input('Bilangan pertama = '))\n",
    "b=2\n",
    "ang='['\n",
    "\n",
    "for i in range(a,n+1):\n",
    "    un=i+(i-1)*b\n",
    "    ang=ang+'1/'+str(un)+' '\n",
    "ang=ang+']'\n",
    "print(ang)"
   ]
  },
  {
   "cell_type": "code",
   "execution_count": 1,
   "id": "ca6f2356",
   "metadata": {},
   "outputs": [
    {
     "name": "stdout",
     "output_type": "stream",
     "text": [
      "Masukkan bilangan = 30\n",
      "[3 5 15 ]\n",
      "[2 6 10 30 ]\n"
     ]
    }
   ],
   "source": [
    "n=int(input('Masukkan bilangan = '))\n",
    "gen='['\n",
    "gan='['\n",
    "\n",
    "for i in range(1,n+1):\n",
    "    i+=1\n",
    "    b=n/i\n",
    "    if b%2==0:\n",
    "        gen=gen+str(i)+' '\n",
    "    if b%2==1:\n",
    "        gan=gan+str(i)+' '\n",
    "print(gen+']')\n",
    "print(gan+']')"
   ]
  },
  {
   "cell_type": "code",
   "execution_count": 30,
   "id": "cfcd6265",
   "metadata": {},
   "outputs": [
    {
     "name": "stdout",
     "output_type": "stream",
     "text": [
      "Masukkan bilangan = 10\n",
      "[1 2 3 -4 5 6 7 -8 9 10 ] : 31\n"
     ]
    }
   ],
   "source": [
    "n=int(input('Masukkan bilangan = '))\n",
    "bil='['\n",
    "tot=0\n",
    "for i in range(1,n+1):\n",
    "    if i%4==0:\n",
    "        i=-i\n",
    "    bil=bil+str(i)+' '\n",
    "    tot=tot+i\n",
    "print(bil+'] :',tot)"
   ]
  },
  {
   "cell_type": "code",
   "execution_count": 44,
   "id": "3d11da98",
   "metadata": {},
   "outputs": [
    {
     "name": "stdout",
     "output_type": "stream",
     "text": [
      "Masukkan bilangan i = 4\n",
      "28\n"
     ]
    }
   ],
   "source": [
    "n=int(input('Masukkan bilangan i = '))\n",
    "tot=0\n",
    "for i in range(1,n+1):\n",
    "    if i%2==0:\n",
    "        a=i*3\n",
    "    else:\n",
    "        a=i+3\n",
    "    tot=tot+a\n",
    "print(tot)"
   ]
  },
  {
   "cell_type": "code",
   "execution_count": 50,
   "id": "a91bf53c",
   "metadata": {},
   "outputs": [
    {
     "name": "stdout",
     "output_type": "stream",
     "text": [
      "masukkan biner = 1000\n",
      "8\n"
     ]
    }
   ],
   "source": [
    "biner=input('masukkan biner = ')\n",
    "pangkat=len(biner)-1\n",
    "desimal=0\n",
    "for i in range(len(biner)): \n",
    "    desimal=desimal+int(biner[i])*2**pangkat\n",
    "    pangkat-=1\n",
    "print(desimal)"
   ]
  },
  {
   "cell_type": "code",
   "execution_count": 3,
   "id": "bf82decd",
   "metadata": {},
   "outputs": [
    {
     "name": "stdout",
     "output_type": "stream",
     "text": [
      "87\n",
      "75\n",
      "65\n",
      "57\n",
      "89\n",
      "67\n",
      "440\n"
     ]
    }
   ],
   "source": [
    "data=[90,56,34,78,86,90,87,88,75,65,86,57,89,67,80]\n",
    "total=0\n",
    "for i in range(len(data)):\n",
    "    if data[i]%2==1:\n",
    "        print(data[i])\n",
    "        total=total+data[i]\n",
    "print(total)"
   ]
  },
  {
   "cell_type": "code",
   "execution_count": 62,
   "id": "19e02ebb",
   "metadata": {},
   "outputs": [
    {
     "name": "stdout",
     "output_type": "stream",
     "text": [
      "bilangan ganjil =  87\n",
      "bilangan ganjil =  75\n",
      "bilangan ganjil =  65\n",
      "bilangan ganjil =  57\n",
      "bilangan ganjil =  89\n",
      "bilangan ganjil =  67\n",
      "total =  440\n"
     ]
    }
   ],
   "source": [
    "data=[90,56,34,78,86,90,87,88,75,65,86,57,89,67,80]\n",
    "total=0\n",
    "for i in data:\n",
    "    if i%2==1:\n",
    "        print('bilangan ganjil = ',i)\n",
    "        total=total+i\n",
    "print('total = ',total)"
   ]
  },
  {
   "cell_type": "code",
   "execution_count": null,
   "id": "8b56e960",
   "metadata": {},
   "outputs": [],
   "source": []
  }
 ],
 "metadata": {
  "kernelspec": {
   "display_name": "Python 3 (ipykernel)",
   "language": "python",
   "name": "python3"
  },
  "language_info": {
   "codemirror_mode": {
    "name": "ipython",
    "version": 3
   },
   "file_extension": ".py",
   "mimetype": "text/x-python",
   "name": "python",
   "nbconvert_exporter": "python",
   "pygments_lexer": "ipython3",
   "version": "3.10.6"
  }
 },
 "nbformat": 4,
 "nbformat_minor": 5
}
