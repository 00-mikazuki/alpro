{
 "cells": [
  {
   "cell_type": "code",
   "execution_count": 4,
   "id": "94191ee8",
   "metadata": {},
   "outputs": [
    {
     "name": "stdout",
     "output_type": "stream",
     "text": [
      "7\n"
     ]
    },
    {
     "data": {
      "text/plain": [
       "str"
      ]
     },
     "execution_count": 4,
     "metadata": {},
     "output_type": "execute_result"
    }
   ],
   "source": [
    "a=print(\"7\")\n",
    "type(\"a\")"
   ]
  },
  {
   "cell_type": "code",
   "execution_count": null,
   "id": "e54e826b",
   "metadata": {},
   "outputs": [],
   "source": [
    "a=input(\"6\")\n",
    "type(\"a\")"
   ]
  },
  {
   "cell_type": "code",
   "execution_count": null,
   "id": "4b34031c",
   "metadata": {},
   "outputs": [],
   "source": []
  },
  {
   "cell_type": "code",
   "execution_count": null,
   "id": "94ada097",
   "metadata": {},
   "outputs": [],
   "source": []
  },
  {
   "cell_type": "code",
   "execution_count": null,
   "id": "05d6a075",
   "metadata": {},
   "outputs": [],
   "source": []
  },
  {
   "cell_type": "code",
   "execution_count": null,
   "id": "f16db942",
   "metadata": {},
   "outputs": [],
   "source": []
  },
  {
   "cell_type": "code",
   "execution_count": 1,
   "id": "893061c4",
   "metadata": {},
   "outputs": [
    {
     "data": {
      "text/plain": [
       "int"
      ]
     },
     "execution_count": 1,
     "metadata": {},
     "output_type": "execute_result"
    }
   ],
   "source": [
    "a=8%3\n",
    "type(a)"
   ]
  },
  {
   "cell_type": "code",
   "execution_count": 2,
   "id": "741ce7c8",
   "metadata": {},
   "outputs": [
    {
     "name": "stdout",
     "output_type": "stream",
     "text": [
      "7\n"
     ]
    }
   ],
   "source": [
    "r=7\n",
    "print(r)"
   ]
  },
  {
   "cell_type": "code",
   "execution_count": 3,
   "id": "8dc78d6c",
   "metadata": {},
   "outputs": [
    {
     "name": "stdout",
     "output_type": "stream",
     "text": [
      "154.0\n"
     ]
    }
   ],
   "source": [
    "result=22/7*r**2\n",
    "print(result)"
   ]
  },
  {
   "cell_type": "code",
   "execution_count": 4,
   "id": "5b7164b0",
   "metadata": {},
   "outputs": [
    {
     "name": "stdout",
     "output_type": "stream",
     "text": [
      "616.0\n"
     ]
    }
   ],
   "source": [
    "r=14\n",
    "result=22/7*r**2\n",
    "print(result)"
   ]
  },
  {
   "cell_type": "code",
   "execution_count": 5,
   "id": "e5e39455",
   "metadata": {},
   "outputs": [
    {
     "name": "stdout",
     "output_type": "stream",
     "text": [
      "153.86\n"
     ]
    }
   ],
   "source": [
    "r=7\n",
    "result=3.14*r**2\n",
    "print(result)"
   ]
  },
  {
   "cell_type": "code",
   "execution_count": 6,
   "id": "eb9eabc3",
   "metadata": {},
   "outputs": [
    {
     "name": "stdout",
     "output_type": "stream",
     "text": [
      "masukkan jari-jari : 7\n",
      "153.86\n"
     ]
    }
   ],
   "source": [
    "pi=3.14\n",
    "r=float(input(\"masukkan jari-jari : \"))\n",
    "luas=pi*r**2\n",
    "print(luas)"
   ]
  },
  {
   "cell_type": "code",
   "execution_count": 7,
   "id": "c04e8e56",
   "metadata": {},
   "outputs": [
    {
     "name": "stdout",
     "output_type": "stream",
     "text": [
      "luas lingkaran dengan jari-jari 7.0 adalah 153.86\n"
     ]
    }
   ],
   "source": [
    "print('luas lingkaran dengan jari-jari',r,'adalah',luas)"
   ]
  },
  {
   "cell_type": "code",
   "execution_count": 12,
   "id": "5a709eca",
   "metadata": {},
   "outputs": [
    {
     "name": "stdout",
     "output_type": "stream",
     "text": [
      "masukkan suhu : 50\n",
      "122.0\n"
     ]
    }
   ],
   "source": [
    "C=float(input(\"masukkan suhu : \"))\n",
    "F=(9/5*C)+32\n",
    "print(F)"
   ]
  },
  {
   "cell_type": "code",
   "execution_count": 13,
   "id": "afbe65c3",
   "metadata": {},
   "outputs": [
    {
     "name": "stdout",
     "output_type": "stream",
     "text": [
      "suhu 50.0 derajat Celcius sama dengan 122.0 derajat Fahrenheit\n"
     ]
    }
   ],
   "source": [
    "print('suhu',C,'derajat Celcius sama dengan',F,'derajat Fahrenheit')"
   ]
  },
  {
   "cell_type": "code",
   "execution_count": 10,
   "id": "9d9ff3ac",
   "metadata": {},
   "outputs": [
    {
     "name": "stdout",
     "output_type": "stream",
     "text": [
      "masukkan suhu : 122\n",
      "50.0\n"
     ]
    }
   ],
   "source": [
    "F=float(input('masukkan suhu : '))\n",
    "C=5/9*(F-32)\n",
    "print(C)"
   ]
  },
  {
   "cell_type": "code",
   "execution_count": 11,
   "id": "6f30cc8f",
   "metadata": {},
   "outputs": [
    {
     "name": "stdout",
     "output_type": "stream",
     "text": [
      "suhu 122.0 derajat Fahrenheit sama dengan 50.0 derajat Celcius\n"
     ]
    }
   ],
   "source": [
    "print('suhu',F,'derajat Fahrenheit sama dengan',C,'derajat Celcius')"
   ]
  },
  {
   "cell_type": "code",
   "execution_count": 1,
   "id": "54ae7a49",
   "metadata": {},
   "outputs": [
    {
     "name": "stdout",
     "output_type": "stream",
     "text": [
      "masukkan suhu : 50\n",
      "10.0\n"
     ]
    }
   ],
   "source": [
    "F=int(input('masukkan suhu : '))\n",
    "C=5/9*(F-32)\n",
    "print(C)"
   ]
  },
  {
   "cell_type": "code",
   "execution_count": 2,
   "id": "5f40b089",
   "metadata": {},
   "outputs": [
    {
     "name": "stdout",
     "output_type": "stream",
     "text": [
      "masukkan suhu : 50\n",
      "122.0\n"
     ]
    }
   ],
   "source": [
    "C=float(input(\"masukkan suhu : \"))\n",
    "F=(9/5*C)+32\n",
    "print(F)"
   ]
  },
  {
   "cell_type": "code",
   "execution_count": 3,
   "id": "980ee140",
   "metadata": {},
   "outputs": [
    {
     "data": {
      "text/plain": [
       "False"
      ]
     },
     "execution_count": 3,
     "metadata": {},
     "output_type": "execute_result"
    }
   ],
   "source": [
    "12<=4"
   ]
  },
  {
   "cell_type": "code",
   "execution_count": 4,
   "id": "ad343026",
   "metadata": {},
   "outputs": [
    {
     "data": {
      "text/plain": [
       "True"
      ]
     },
     "execution_count": 4,
     "metadata": {},
     "output_type": "execute_result"
    }
   ],
   "source": [
    "x=17\n",
    "x%2==1"
   ]
  },
  {
   "cell_type": "code",
   "execution_count": 5,
   "id": "42691500",
   "metadata": {},
   "outputs": [
    {
     "data": {
      "text/plain": [
       "False"
      ]
     },
     "execution_count": 5,
     "metadata": {},
     "output_type": "execute_result"
    }
   ],
   "source": [
    "True and False"
   ]
  },
  {
   "cell_type": "code",
   "execution_count": 9,
   "id": "c6b58ce5",
   "metadata": {},
   "outputs": [
    {
     "data": {
      "text/plain": [
       "True"
      ]
     },
     "execution_count": 9,
     "metadata": {},
     "output_type": "execute_result"
    }
   ],
   "source": [
    "num1=25\n",
    "num2=10\n",
    "num1!=num2 or num1//2==1"
   ]
  },
  {
   "cell_type": "code",
   "execution_count": 11,
   "id": "7427f5f6",
   "metadata": {},
   "outputs": [
    {
     "data": {
      "text/plain": [
       "False"
      ]
     },
     "execution_count": 11,
     "metadata": {},
     "output_type": "execute_result"
    }
   ],
   "source": [
    "num1//2==1"
   ]
  },
  {
   "cell_type": "code",
   "execution_count": null,
   "id": "091a40de",
   "metadata": {
    "collapsed": true
   },
   "outputs": [],
   "source": []
  }
 ],
 "metadata": {
  "kernelspec": {
   "display_name": "Python 3 (ipykernel)",
   "language": "python",
   "name": "python3"
  },
  "language_info": {
   "codemirror_mode": {
    "name": "ipython",
    "version": 3
   },
   "file_extension": ".py",
   "mimetype": "text/x-python",
   "name": "python",
   "nbconvert_exporter": "python",
   "pygments_lexer": "ipython3",
   "version": "3.10.6"
  }
 },
 "nbformat": 4,
 "nbformat_minor": 5
}
