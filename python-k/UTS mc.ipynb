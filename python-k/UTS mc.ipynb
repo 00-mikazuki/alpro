{
 "cells": [
  {
   "cell_type": "code",
   "execution_count": 6,
   "id": "70418047",
   "metadata": {},
   "outputs": [
    {
     "data": {
      "text/plain": [
       "0"
      ]
     },
     "execution_count": 6,
     "metadata": {},
     "output_type": "execute_result"
    }
   ],
   "source": [
    "6%3"
   ]
  },
  {
   "cell_type": "code",
   "execution_count": 11,
   "id": "a735a945",
   "metadata": {},
   "outputs": [
    {
     "name": "stdout",
     "output_type": "stream",
     "text": [
      "4,5\n"
     ]
    }
   ],
   "source": [
    "print('4,5')"
   ]
  },
  {
   "cell_type": "code",
   "execution_count": 13,
   "id": "c3da6a4c",
   "metadata": {},
   "outputs": [
    {
     "data": {
      "text/plain": [
       "2"
      ]
     },
     "execution_count": 13,
     "metadata": {},
     "output_type": "execute_result"
    }
   ],
   "source": [
    "5//2"
   ]
  },
  {
   "cell_type": "code",
   "execution_count": 15,
   "id": "41452564",
   "metadata": {},
   "outputs": [
    {
     "ename": "NameError",
     "evalue": "name 'algoritma' is not defined",
     "output_type": "error",
     "traceback": [
      "\u001b[1;31m---------------------------------------------------------------------------\u001b[0m",
      "\u001b[1;31mNameError\u001b[0m                                 Traceback (most recent call last)",
      "Input \u001b[1;32mIn [15]\u001b[0m, in \u001b[0;36m<cell line: 1>\u001b[1;34m()\u001b[0m\n\u001b[1;32m----> 1\u001b[0m \u001b[38;5;28mlen\u001b[39m(\u001b[43malgoritma\u001b[49m)\u001b[38;5;241m==\u001b[39m\u001b[38;5;28mlen\u001b[39m(perintah)\n",
      "\u001b[1;31mNameError\u001b[0m: name 'algoritma' is not defined"
     ]
    }
   ],
   "source": [
    "len(algoritma)==len(perintah)"
   ]
  },
  {
   "cell_type": "code",
   "execution_count": 18,
   "id": "f1a8b275",
   "metadata": {},
   "outputs": [
    {
     "data": {
      "text/plain": [
       "False"
      ]
     },
     "execution_count": 18,
     "metadata": {},
     "output_type": "execute_result"
    }
   ],
   "source": [
    "5//2==0 and 5//2==1"
   ]
  },
  {
   "cell_type": "code",
   "execution_count": 23,
   "id": "a0aac841",
   "metadata": {},
   "outputs": [
    {
     "data": {
      "text/plain": [
       "'datadatadata'"
      ]
     },
     "execution_count": 23,
     "metadata": {},
     "output_type": "execute_result"
    }
   ],
   "source": [
    "3*'data'"
   ]
  },
  {
   "cell_type": "code",
   "execution_count": 29,
   "id": "9f5ccd13",
   "metadata": {},
   "outputs": [
    {
     "name": "stdout",
     "output_type": "stream",
     "text": [
      "0 a\n",
      "1 l\n",
      "2 g\n",
      "3 o\n",
      "4 r\n",
      "5 i\n",
      "6 t\n",
      "7 m\n",
      "8 a\n"
     ]
    }
   ],
   "source": [
    "data='algoritma'\n",
    "\n",
    "for i in range(len(data)):\n",
    "    print(i,data[i])"
   ]
  },
  {
   "cell_type": "code",
   "execution_count": 30,
   "id": "e29780af",
   "metadata": {},
   "outputs": [
    {
     "name": "stdout",
     "output_type": "stream",
     "text": [
      "algoritma\n",
      "algoritma\n",
      "algoritma\n"
     ]
    }
   ],
   "source": [
    "i=5\n",
    "while i>0:\n",
    "    print('algoritma')\n",
    "    i-=2"
   ]
  },
  {
   "cell_type": "code",
   "execution_count": 5,
   "id": "8d176dbd",
   "metadata": {},
   "outputs": [
    {
     "name": "stdout",
     "output_type": "stream",
     "text": [
      "2\n",
      "3\n",
      "4\n",
      "5\n",
      "6\n",
      "7\n",
      "8\n",
      "9\n",
      "10\n",
      "11\n"
     ]
    }
   ],
   "source": [
    "n=10\n",
    "for i in range(n):\n",
    "    i+=2\n",
    "    print(i)"
   ]
  },
  {
   "cell_type": "code",
   "execution_count": 7,
   "id": "14aadbdc",
   "metadata": {},
   "outputs": [
    {
     "name": "stdout",
     "output_type": "stream",
     "text": [
      "3\n"
     ]
    }
   ],
   "source": [
    "a=15\n",
    "stop=False\n",
    "cont=0\n",
    "while not(stop):\n",
    "    a=a//3\n",
    "    if a==0:\n",
    "        stop=True\n",
    "    cont+=1\n",
    "print(cont)"
   ]
  },
  {
   "cell_type": "code",
   "execution_count": 8,
   "id": "975c61be",
   "metadata": {},
   "outputs": [
    {
     "name": "stdout",
     "output_type": "stream",
     "text": [
      "0\n"
     ]
    }
   ],
   "source": [
    "a=5\n",
    "cont=0\n",
    "while a%2==0:\n",
    "    cont+=1\n",
    "    a-=1\n",
    "print(cont)"
   ]
  },
  {
   "cell_type": "code",
   "execution_count": 10,
   "id": "8d092561",
   "metadata": {},
   "outputs": [
    {
     "name": "stdout",
     "output_type": "stream",
     "text": [
      "6\n"
     ]
    }
   ],
   "source": [
    "n=6\n",
    "temp=0\n",
    "for i in range(n):\n",
    "    if i%2==0:\n",
    "        temp+=i\n",
    "print(temp)\n",
    "    "
   ]
  },
  {
   "cell_type": "code",
   "execution_count": 11,
   "id": "3941bc01",
   "metadata": {},
   "outputs": [
    {
     "name": "stdout",
     "output_type": "stream",
     "text": [
      "bil2\n"
     ]
    }
   ],
   "source": [
    "n=4\n",
    "if n%4 and not(n//4==1):\n",
    "    print('bil1')\n",
    "else:\n",
    "    print('bil2')"
   ]
  },
  {
   "cell_type": "code",
   "execution_count": null,
   "id": "39d51890",
   "metadata": {},
   "outputs": [],
   "source": []
  }
 ],
 "metadata": {
  "kernelspec": {
   "display_name": "Python 3 (ipykernel)",
   "language": "python",
   "name": "python3"
  },
  "language_info": {
   "codemirror_mode": {
    "name": "ipython",
    "version": 3
   },
   "file_extension": ".py",
   "mimetype": "text/x-python",
   "name": "python",
   "nbconvert_exporter": "python",
   "pygments_lexer": "ipython3",
   "version": "3.10.6"
  }
 },
 "nbformat": 4,
 "nbformat_minor": 5
}
