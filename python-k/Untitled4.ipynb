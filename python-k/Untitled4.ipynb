{
 "cells": [
  {
   "cell_type": "markdown",
   "id": "e933cbde",
   "metadata": {},
   "source": [
    "####  Algoritma-1"
   ]
  },
  {
   "cell_type": "code",
   "execution_count": 8,
   "id": "5ec5ac4b",
   "metadata": {},
   "outputs": [
    {
     "name": "stdout",
     "output_type": "stream",
     "text": [
      "n = 5\n",
      "0\n",
      "3\n",
      "8\n",
      "15\n",
      "24\n",
      "35\n",
      "y =  85\n"
     ]
    }
   ],
   "source": [
    "n=int(input('n = '))\n",
    "temp=0\n",
    "\n",
    "for i in range(n+1):\n",
    "    y=i**2+2*i\n",
    "    print(y)\n",
    "    i=i+1\n",
    "    temp=temp+y\n",
    "print('y = ',temp)"
   ]
  },
  {
   "cell_type": "code",
   "execution_count": null,
   "id": "06f6be7f",
   "metadata": {},
   "outputs": [
    {
     "name": "stdout",
     "output_type": "stream",
     "text": [
      "n = 5\n"
     ]
    }
   ],
   "source": [
    "temp=0\n",
    "a=0\n",
    "counter=0\n",
    "n=int(input('n = '))\n",
    "while counter<=n :\n",
    "    if a%2==1:\n",
    "        temp=temp+a\n",
    "        counter=counter+1\n",
    "        print(a)\n",
    "print('jumlah =',temp)"
   ]
  },
  {
   "cell_type": "code",
   "execution_count": null,
   "id": "945c56ca",
   "metadata": {},
   "outputs": [],
   "source": [
    "bil=0\n",
    "counter=1\n",
    "n=int(input('n = '))\n",
    "while counter<=n:\n",
    "    if bil%2==1:\n",
    "        print(bil)\n",
    "        counter+=1\n",
    "    bil+=1"
   ]
  },
  {
   "cell_type": "code",
   "execution_count": null,
   "id": "2ffa06a8",
   "metadata": {},
   "outputs": [],
   "source": [
    "temp=0\n",
    "n=int(input('n = '))\n",
    "for i in range(n):\n",
    "    if i%2==1:\n",
    "        temp=temp+i\n",
    "        print(i)\n",
    "print('jumlah =',temp)"
   ]
  },
  {
   "cell_type": "code",
   "execution_count": 26,
   "id": "5ea7b884",
   "metadata": {},
   "outputs": [
    {
     "name": "stdout",
     "output_type": "stream",
     "text": [
      "banyak suku n=3\n",
      "a=4\n",
      "b=6\n",
      "suku ke- 1 adalah 4\n",
      "suku ke- 2 adalah 10\n",
      "suku ke- 3 adalah 16\n",
      "jumlah seluruh suku dari suku pertama sampai suku ke- 5 adalah 30.0\n"
     ]
    }
   ],
   "source": [
    "nMax=int(input('banyak suku n='))\n",
    "a=int(input('a='))\n",
    "b=int(input('b='))\n",
    "n=1\n",
    "\n",
    "for i in range(1,nMax+1):\n",
    "    Un=a+(n-1)*b\n",
    "    print('suku ke-',n,'adalah',Un)\n",
    "    n+=1\n",
    "\n",
    "Sn=nMax/2*(2*a+(nMax-1)*b)\n",
    "print('jumlah seluruh suku dari suku pertama sampai suku ke-',sukuMax,'adalah',Sn)"
   ]
  },
  {
   "cell_type": "code",
   "execution_count": 25,
   "id": "a791329e",
   "metadata": {},
   "outputs": [
    {
     "name": "stdout",
     "output_type": "stream",
     "text": [
      "n=3\n",
      "a=4\n",
      "b=6\n",
      "suku ke- 3 adalah 16\n",
      "jumlah seluruh suku dari suku pertama sampai suku ke- 3 adalah 30.0\n"
     ]
    }
   ],
   "source": [
    "n=int(input('n='))\n",
    "a=int(input('a='))\n",
    "b=int(input('b='))\n",
    "\n",
    "Un=a+(n-1)*b\n",
    "print('suku ke-',n,'adalah',Un)\n",
    "\n",
    "Sn=n/2*(2*a+(n-1)*b)\n",
    "print('jumlah seluruh suku dari suku pertama sampai suku ke-',n,'adalah',Sn)"
   ]
  },
  {
   "cell_type": "code",
   "execution_count": 1,
   "id": "4724ada0",
   "metadata": {},
   "outputs": [
    {
     "name": "stdout",
     "output_type": "stream",
     "text": [
      "Un=3\n",
      "a=4\n",
      "b=6\n",
      "suku ke- 1 adalah 4\n",
      "suku ke- 2 adalah 10\n",
      "suku ke- 3 adalah 16\n",
      "jumlah seluruh suku dari suku pertama sampai suku ke- 16 adalah 784.0\n"
     ]
    }
   ],
   "source": [
    "Un=int(input('Un='))\n",
    "a=int(input('a='))\n",
    "b=int(input('b='))\n",
    "n=1\n",
    "\n",
    "for i in range(1,Un+1):\n",
    "    Un=a+(n-1)*b\n",
    "    print('suku ke-',n,'adalah',Un)\n",
    "    n+=1\n",
    "\n",
    "Sn=Un/2*(2*a+(Un-1)*b)\n",
    "print('jumlah seluruh suku dari suku pertama sampai suku ke-',Un,'adalah',Sn)"
   ]
  },
  {
   "cell_type": "code",
   "execution_count": null,
   "id": "d72f5439",
   "metadata": {},
   "outputs": [],
   "source": []
  }
 ],
 "metadata": {
  "kernelspec": {
   "display_name": "Python 3 (ipykernel)",
   "language": "python",
   "name": "python3"
  },
  "language_info": {
   "codemirror_mode": {
    "name": "ipython",
    "version": 3
   },
   "file_extension": ".py",
   "mimetype": "text/x-python",
   "name": "python",
   "nbconvert_exporter": "python",
   "pygments_lexer": "ipython3",
   "version": "3.10.6"
  }
 },
 "nbformat": 4,
 "nbformat_minor": 5
}
